{
 "cells": [
  {
   "cell_type": "markdown",
   "metadata": {},
   "source": [
    "### TF.CONTRIB.LEARN\n",
    "\n",
    "`tf.contrib.learn` is a high-level TensorFlow library that simplifies the mechanics of machine learning, including the followings:\n",
    "+ running training loops\n",
    "+ running evaluation loops\n",
    "+ managing data sets\n",
    "+ managing feeding"
   ]
  },
  {
   "cell_type": "code",
   "execution_count": 2,
   "metadata": {},
   "outputs": [
    {
     "name": "stdout",
     "output_type": "stream",
     "text": [
      "INFO:tensorflow:Using default config.\n",
      "WARNING:tensorflow:Using temporary folder as model directory: C:\\Users\\Ripu\\AppData\\Local\\Temp\\tmp7y8r15zf\n",
      "INFO:tensorflow:Using config: {'_task_id': 0, '_model_dir': 'C:\\\\Users\\\\Ripu\\\\AppData\\\\Local\\\\Temp\\\\tmp7y8r15zf', '_task_type': None, '_tf_config': gpu_options {\n",
      "  per_process_gpu_memory_fraction: 1\n",
      "}\n",
      ", '_keep_checkpoint_max': 5, '_session_config': None, '_keep_checkpoint_every_n_hours': 10000, '_save_summary_steps': 100, '_cluster_spec': <tensorflow.python.training.server_lib.ClusterSpec object at 0x000001D9A9A01D30>, '_is_chief': True, '_master': '', '_save_checkpoints_secs': 600, '_num_worker_replicas': 0, '_tf_random_seed': None, '_evaluation_master': '', '_save_checkpoints_steps': None, '_num_ps_replicas': 0, '_environment': 'local'}\n",
      "WARNING:tensorflow:From c:\\users\\ripu\\anaconda3\\envs\\tensorflow\\lib\\site-packages\\tensorflow\\contrib\\learn\\python\\learn\\estimators\\head.py:625: scalar_summary (from tensorflow.python.ops.logging_ops) is deprecated and will be removed after 2016-11-30.\n",
      "Instructions for updating:\n",
      "Please switch to tf.summary.scalar. Note that tf.summary.scalar uses the node name instead of the tag. This means that TensorFlow will automatically de-duplicate summary names based on the scope they are created in. Also, passing a tensor or list of tags to a scalar summary op is no longer supported.\n",
      "INFO:tensorflow:Create CheckpointSaverHook.\n",
      "INFO:tensorflow:Saving checkpoints for 1 into C:\\Users\\Ripu\\AppData\\Local\\Temp\\tmp7y8r15zf\\model.ckpt.\n",
      "INFO:tensorflow:loss = 2.5, step = 1\n",
      "INFO:tensorflow:global_step/sec: 786.837\n",
      "INFO:tensorflow:loss = 0.0171628, step = 101 (0.129 sec)\n",
      "INFO:tensorflow:global_step/sec: 884.328\n",
      "INFO:tensorflow:loss = 0.0143196, step = 201 (0.113 sec)\n",
      "INFO:tensorflow:global_step/sec: 876.573\n",
      "INFO:tensorflow:loss = 0.0016255, step = 301 (0.113 sec)\n",
      "INFO:tensorflow:global_step/sec: 876.536\n",
      "INFO:tensorflow:loss = 0.00016401, step = 401 (0.114 sec)\n",
      "INFO:tensorflow:global_step/sec: 854.091\n",
      "INFO:tensorflow:loss = 7.84892e-05, step = 501 (0.117 sec)\n",
      "INFO:tensorflow:global_step/sec: 1086.23\n",
      "INFO:tensorflow:loss = 1.58149e-05, step = 601 (0.093 sec)\n",
      "INFO:tensorflow:global_step/sec: 1161.98\n",
      "INFO:tensorflow:loss = 7.26361e-07, step = 701 (0.085 sec)\n",
      "INFO:tensorflow:global_step/sec: 1175.64\n",
      "INFO:tensorflow:loss = 2.51678e-07, step = 801 (0.085 sec)\n",
      "INFO:tensorflow:global_step/sec: 1561.39\n",
      "INFO:tensorflow:loss = 5.52085e-08, step = 901 (0.064 sec)\n",
      "INFO:tensorflow:Saving checkpoints for 1000 into C:\\Users\\Ripu\\AppData\\Local\\Temp\\tmp7y8r15zf\\model.ckpt.\n",
      "INFO:tensorflow:Loss for final step: 7.21919e-09.\n",
      "WARNING:tensorflow:From c:\\users\\ripu\\anaconda3\\envs\\tensorflow\\lib\\site-packages\\tensorflow\\contrib\\learn\\python\\learn\\estimators\\head.py:625: scalar_summary (from tensorflow.python.ops.logging_ops) is deprecated and will be removed after 2016-11-30.\n",
      "Instructions for updating:\n",
      "Please switch to tf.summary.scalar. Note that tf.summary.scalar uses the node name instead of the tag. This means that TensorFlow will automatically de-duplicate summary names based on the scope they are created in. Also, passing a tensor or list of tags to a scalar summary op is no longer supported.\n",
      "INFO:tensorflow:Starting evaluation at 2017-07-20-11:30:31\n",
      "INFO:tensorflow:Restoring parameters from C:\\Users\\Ripu\\AppData\\Local\\Temp\\tmp7y8r15zf\\model.ckpt-1000\n",
      "INFO:tensorflow:Finished evaluation at 2017-07-20-11:30:32\n",
      "INFO:tensorflow:Saving dict for global step 1000: global_step = 1000, loss = 8.03487e-09\n",
      "WARNING:tensorflow:From c:\\users\\ripu\\anaconda3\\envs\\tensorflow\\lib\\site-packages\\tensorflow\\contrib\\learn\\python\\learn\\estimators\\head.py:625: scalar_summary (from tensorflow.python.ops.logging_ops) is deprecated and will be removed after 2016-11-30.\n",
      "Instructions for updating:\n",
      "Please switch to tf.summary.scalar. Note that tf.summary.scalar uses the node name instead of the tag. This means that TensorFlow will automatically de-duplicate summary names based on the scope they are created in. Also, passing a tensor or list of tags to a scalar summary op is no longer supported.\n",
      "INFO:tensorflow:Starting evaluation at 2017-07-20-11:30:33\n",
      "INFO:tensorflow:Restoring parameters from C:\\Users\\Ripu\\AppData\\Local\\Temp\\tmp7y8r15zf\\model.ckpt-1000\n",
      "INFO:tensorflow:Finished evaluation at 2017-07-20-11:30:34\n",
      "INFO:tensorflow:Saving dict for global step 1000: global_step = 1000, loss = 0.00253291\n",
      "train loss: {'loss': 8.0348723e-09, 'global_step': 1000}\n",
      "eval loss: {'loss': 0.0025329115, 'global_step': 1000}\n",
      " The total time required to train and evaluate this model is --- 6.183261394500732 seconds---\n"
     ]
    }
   ],
   "source": [
    "import time\n",
    "start_time = time.time()\n",
    "\n",
    "import tensorflow as tf\n",
    "\n",
    "# NumPy is often used to load, manipulate and preprocess data.\n",
    "import numpy as np\n",
    "\n",
    "# FEATURES : we can declare a list of features\n",
    "# We only have one real-valued feature. There are many other types of columns that are more complicated and useful.\n",
    "features = [tf.contrib.layers.real_valued_column(\"x\", dimension=1)]\n",
    "\n",
    "# ESTIMATOR :\n",
    "# An estimator is the front end to invoke training (fitting) and evaluation (inference). There are many predefined types\n",
    "# like linear regression, logistic regression, linear classification, logistic classification, and many neural network\n",
    "# classifiers and regressors. The following code provides an estimator that does linear regression.\n",
    "estimator = tf.contrib.learn.LinearRegressor(feature_columns=features)\n",
    "\n",
    "# TensorFlow provides many helper methods to read and set up data sets.\n",
    "\n",
    "# Here we use two data sets: one for training and one for evaluation We have to tell the function how many batches\n",
    "# of data (num_epochs) we want and how big each batch should be.\n",
    "x_train = np.array([1., 2., 3., 4.])\n",
    "y_train = np.array([0., -1., -2., -3.])\n",
    "x_eval = np.array([2., 5., 8., 1.])\n",
    "y_eval = np.array([-1.01, -4.1, -7, 0.])\n",
    "# Actually these are creating data frames\n",
    "input_data = tf.contrib.learn.io.numpy_input_fn({\"x\":x_train}, y_train,\n",
    "                                              batch_size=4,\n",
    "                                              num_epochs=1000)\n",
    "\n",
    "eval_input_data = tf.contrib.learn.io.numpy_input_fn({\"x\":x_eval},\n",
    "                                                   y_eval, batch_size=4,\n",
    "                                                   num_epochs=1000)\n",
    "\n",
    "# We can invoke 1000 training steps by invoking the  method and passing the training data set.\n",
    "# Means 1000 times the weights will be change by some optimizer to get the optimum loss.\n",
    "estimator.fit(input_fn=input_data, steps=1000)\n",
    "\n",
    "# Here we evaluate how well our model did.\n",
    "train_loss = estimator.evaluate(input_fn=input_data)\n",
    "eval_loss = estimator.evaluate(input_fn=eval_input_data)\n",
    "print(\"train loss: %r\"% train_loss)\n",
    "print(\"eval loss: %r\"% eval_loss)\n",
    "\n",
    "# Time taken to complete the process\n",
    "print(\" The total time required to train and evaluate this model is --- %s seconds---\" % (time.time()-start_time))"
   ]
  },
  {
   "cell_type": "markdown",
   "metadata": {},
   "source": [
    "#### OUTPUT\n",
    "***train loss: {'loss': 8.0348723e-09, 'global_step': 1000}\n",
    "eval loss: {'loss': 0.0025329115, 'global_step': 1000}\n",
    "The total time required to train and evaluate this model is --- 6.183261394500732 seconds---***"
   ]
  },
  {
   "cell_type": "markdown",
   "metadata": {},
   "source": [
    "**tf.contrib.learn.DNNClassifier?**\n",
    "*Add ?-mark after the module to view the source code*"
   ]
  }
 ],
 "metadata": {
  "kernelspec": {
   "display_name": "tensorflowPy",
   "language": "python",
   "name": "tensorflowpy"
  },
  "language_info": {
   "codemirror_mode": {
    "name": "ipython",
    "version": 3
   },
   "file_extension": ".py",
   "mimetype": "text/x-python",
   "name": "python",
   "nbconvert_exporter": "python",
   "pygments_lexer": "ipython3",
   "version": "3.5.3"
  }
 },
 "nbformat": 4,
 "nbformat_minor": 2
}
