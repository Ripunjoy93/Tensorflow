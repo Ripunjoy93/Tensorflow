{
 "cells": [
  {
   "cell_type": "markdown",
   "metadata": {},
   "source": [
    "### Linear Model\n",
    "** Linear model with one variable example **"
   ]
  },
  {
   "cell_type": "code",
   "execution_count": 1,
   "metadata": {
    "collapsed": true
   },
   "outputs": [],
   "source": [
    "import numpy as np\n",
    "import tensorflow as tf"
   ]
  },
  {
   "cell_type": "code",
   "execution_count": 6,
   "metadata": {},
   "outputs": [
    {
     "name": "stdout",
     "output_type": "stream",
     "text": [
      "m: [-0.99999952] c: [ 0.99999833] loss-func: 2.55795e-12\n"
     ]
    }
   ],
   "source": [
    "# Model parameters\n",
    "m = tf.Variable([0.3], dtype=tf.float32)\n",
    "c = tf.Variable([-0.3], dtype=tf.float32)\n",
    "\n",
    "# Model input and response(output)\n",
    "x = tf.placeholder(tf.float32)\n",
    "y = tf.placeholder(tf.float32)\n",
    "\n",
    "# The model\n",
    "linear_model = m*x + c\n",
    "\n",
    "# Loss function ( sum_of{original_output - model_output}^2)\n",
    "loss_func = tf.reduce_sum(tf.square(y-linear_model))\n",
    "\n",
    "# Optimizer (Simple gradient descent optimizer)\n",
    "optimizer = tf.train.GradientDescentOptimizer(learning_rate = 0.01)\n",
    "# Finding the optimum vakue of m & c by minimizing the value of loss function\n",
    "training = optimizer.minimize(loss_func)\n",
    "\n",
    "# Data for training\n",
    "x_train = [1,2,3,4,5]\n",
    "y_train = [0,-1,-2,-3,-4]\n",
    "\n",
    "# Preparing the enviroment for actual train\n",
    "# Initializing the first random weights to feed into the network\n",
    "init = tf.global_variables_initializer()\n",
    "cur_ses = tf.Session()\n",
    "cur_ses.run(init) # Initializing\n",
    "\n",
    "# Training Loop\n",
    "for i in range(1000):\n",
    "    cur_ses.run(training, {x:x_train, y:y_train})\n",
    "    \n",
    "# Evaluate training accuracy, the value after 1000 iteration through the loop\n",
    "\n",
    "cur_m, cur_c, loss_func = cur_ses.run([m,c,loss_func],{x:x_train, y:y_train})\n",
    "\n",
    "print(\"m: %s c: %s loss-func: %s\"%(cur_m,cur_c,loss_func))"
   ]
  },
  {
   "cell_type": "markdown",
   "metadata": {},
   "source": [
    "*** If we re-run the model, the value won't be exact the same. Because it will initialize the random weights, and the optimizer will end up in some other local minimum. So it is always a better practice to seed the random initialization***"
   ]
  }
 ],
 "metadata": {
  "kernelspec": {
   "display_name": "tensorflowPy",
   "language": "python",
   "name": "tensorflowpy"
  },
  "language_info": {
   "codemirror_mode": {
    "name": "ipython",
    "version": 3
   },
   "file_extension": ".py",
   "mimetype": "text/x-python",
   "name": "python",
   "nbconvert_exporter": "python",
   "pygments_lexer": "ipython3",
   "version": "3.5.3"
  }
 },
 "nbformat": 4,
 "nbformat_minor": 2
}
