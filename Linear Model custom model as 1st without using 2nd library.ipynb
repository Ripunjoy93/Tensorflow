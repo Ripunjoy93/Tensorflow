{
 "cells": [
  {
   "cell_type": "markdown",
   "metadata": {},
   "source": [
    "### Custom Model\n",
    "**Linear Model custom model as 1st without using 2nd library**\n",
    "\n",
    "Lets create a custom model (equivalent model to LinearRegressor using the lower level TensorFlow API) that is not built into `TensorFlow`. We can still retain the high level abstraction of **data set, feeding, training, etc. of tf.contrib.learn**.\n",
    "\n",
    "To define a custom model that works with tf.contrib.learn, we need to use **tf.contrib.learn.Estimator.** *tf.contrib.learn.LinearRegressor* is a sub-class of tf.contrib.learn.Estimator. Instead of sub-classing Estimator, we simply provide Estimator a function **model_fn** that tells tf.contrib.learn how it can evaluate predictions, training steps, and loss."
   ]
  },
  {
   "cell_type": "code",
   "execution_count": 2,
   "metadata": {},
   "outputs": [
    {
     "name": "stdout",
     "output_type": "stream",
     "text": [
      "INFO:tensorflow:Using default config.\n",
      "WARNING:tensorflow:Using temporary folder as model directory: C:\\Users\\Ripu\\AppData\\Local\\Temp\\tmped4z6r7e\n",
      "INFO:tensorflow:Using config: {'_cluster_spec': <tensorflow.python.training.server_lib.ClusterSpec object at 0x00000256DB89DDD8>, '_keep_checkpoint_max': 5, '_tf_config': gpu_options {\n",
      "  per_process_gpu_memory_fraction: 1\n",
      "}\n",
      ", '_save_checkpoints_steps': None, '_master': '', '_task_type': None, '_task_id': 0, '_save_checkpoints_secs': 600, '_session_config': None, '_is_chief': True, '_keep_checkpoint_every_n_hours': 10000, '_evaluation_master': '', '_tf_random_seed': None, '_environment': 'local', '_num_worker_replicas': 0, '_num_ps_replicas': 0, '_model_dir': 'C:\\\\Users\\\\Ripu\\\\AppData\\\\Local\\\\Temp\\\\tmped4z6r7e', '_save_summary_steps': 100}\n",
      "INFO:tensorflow:Create CheckpointSaverHook.\n",
      "INFO:tensorflow:Saving checkpoints for 1 into C:\\Users\\Ripu\\AppData\\Local\\Temp\\tmped4z6r7e\\model.ckpt.\n",
      "INFO:tensorflow:loss = 7.64801287674, step = 1\n",
      "INFO:tensorflow:global_step/sec: 1075.84\n",
      "INFO:tensorflow:loss = 0.000172553749623, step = 101 (0.095 sec)\n",
      "INFO:tensorflow:global_step/sec: 1004.3\n",
      "INFO:tensorflow:loss = 9.26422965651e-06, step = 201 (0.101 sec)\n",
      "INFO:tensorflow:global_step/sec: 745.734\n",
      "INFO:tensorflow:loss = 2.31890657276e-06, step = 301 (0.133 sec)\n",
      "INFO:tensorflow:global_step/sec: 1297.79\n",
      "INFO:tensorflow:loss = 1.48857394873e-07, step = 401 (0.076 sec)\n",
      "INFO:tensorflow:global_step/sec: 1203.97\n",
      "INFO:tensorflow:loss = 5.11452007536e-09, step = 501 (0.084 sec)\n",
      "INFO:tensorflow:global_step/sec: 1281.13\n",
      "INFO:tensorflow:loss = 1.08657215588e-09, step = 601 (0.077 sec)\n",
      "INFO:tensorflow:global_step/sec: 1233.69\n",
      "INFO:tensorflow:loss = 4.56417811464e-11, step = 701 (0.082 sec)\n",
      "INFO:tensorflow:global_step/sec: 1350.4\n",
      "INFO:tensorflow:loss = 7.41929776803e-12, step = 801 (0.074 sec)\n",
      "INFO:tensorflow:global_step/sec: 1586.16\n",
      "INFO:tensorflow:loss = 4.76476341645e-13, step = 901 (0.062 sec)\n",
      "INFO:tensorflow:Saving checkpoints for 1000 into C:\\Users\\Ripu\\AppData\\Local\\Temp\\tmped4z6r7e\\model.ckpt.\n",
      "INFO:tensorflow:Loss for final step: 3.51311537275e-14.\n",
      "INFO:tensorflow:Starting evaluation at 2017-07-20-11:58:03\n",
      "INFO:tensorflow:Restoring parameters from C:\\Users\\Ripu\\AppData\\Local\\Temp\\tmped4z6r7e\\model.ckpt-1000\n",
      "INFO:tensorflow:Finished evaluation at 2017-07-20-11:58:04\n",
      "INFO:tensorflow:Saving dict for global step 1000: global_step = 1000, loss = 5.77518e-14\n",
      "INFO:tensorflow:Starting evaluation at 2017-07-20-11:58:05\n",
      "INFO:tensorflow:Restoring parameters from C:\\Users\\Ripu\\AppData\\Local\\Temp\\tmped4z6r7e\\model.ckpt-1000\n",
      "INFO:tensorflow:Finished evaluation at 2017-07-20-11:58:05\n",
      "INFO:tensorflow:Saving dict for global step 1000: global_step = 1000, loss = 0.0101001\n",
      "train loss: {'loss': 5.7751757e-14, 'global_step': 1000}\n",
      "eval loss: {'loss': 0.010100062, 'global_step': 1000}\n",
      " The total time required to train and evaluate this model is --- 5.568190336227417 seconds---\n"
     ]
    }
   ],
   "source": [
    "import time\n",
    "start_time = time.time()\n",
    "import numpy as np\n",
    "import tensorflow as tf\n",
    "\n",
    "# Eventually following is a function to built a custom model :----------\n",
    "# Declare list of features, we only have one real-valued feature\n",
    "def model(features, labels, mode):\n",
    "  # Build a linear model and predict values\n",
    "  W = tf.get_variable(\"W\", [1], dtype=tf.float64)\n",
    "  b = tf.get_variable(\"b\", [1], dtype=tf.float64)\n",
    "  y = W*features['x'] + b\n",
    "  # Loss sub-graph\n",
    "  loss = tf.reduce_sum(tf.square(y - labels))\n",
    "  # Training sub-graph\n",
    "  global_step = tf.train.get_global_step()\n",
    "  optimizer = tf.train.GradientDescentOptimizer(0.01)\n",
    "  train = tf.group(optimizer.minimize(loss),\n",
    "                   tf.assign_add(global_step, 1))\n",
    "  # ModelFnOps connects subgraphs we built to the\n",
    "  # appropriate functionality.\n",
    "  return tf.contrib.learn.ModelFnOps(\n",
    "      mode=mode, predictions=y,\n",
    "      loss=loss,\n",
    "      train_op=train)\n",
    "\n",
    "estimator = tf.contrib.learn.Estimator(model_fn=model)\n",
    "\n",
    "# define our data sets\n",
    "x_train = np.array([1., 2., 3., 4.])\n",
    "y_train = np.array([0., -1., -2., -3.])\n",
    "x_eval = np.array([2., 5., 8., 1.])\n",
    "y_eval = np.array([-1.01, -4.1, -7, 0.])\n",
    "input_data = tf.contrib.learn.io.numpy_input_fn({\"x\": x_train}, y_train, 4, num_epochs=1000)\n",
    "eval_input_data = tf.contrib.learn.io.numpy_input_fn({\"x\":x_eval},y_eval, batch_size=4,num_epochs=1000)\n",
    "\n",
    "# train\n",
    "estimator.fit(input_fn=input_data, steps=1000)\n",
    "\n",
    "# Here we evaluate how well our model did. \n",
    "train_loss = estimator.evaluate(input_fn=input_data)\n",
    "eval_loss = estimator.evaluate(input_fn=eval_input_data)\n",
    "print(\"train loss: %r\"% train_loss)\n",
    "print(\"eval loss: %r\"% eval_loss)\n",
    "\n",
    "# Time taken to complete the process\n",
    "print(\" The total time required to train and evaluate this model is --- %s seconds---\" % (time.time()-start_time))"
   ]
  },
  {
   "cell_type": "markdown",
   "metadata": {},
   "source": [
    "#### OUTPUT\n",
    "***train loss: {'loss': 5.7751757e-14, 'global_step': 1000}\n",
    "eval loss: {'loss': 0.010100062, 'global_step': 1000}\n",
    "The total time required to train and evaluate this model is --- 5.568190336227417 seconds---***"
   ]
  }
 ],
 "metadata": {
  "kernelspec": {
   "display_name": "tensorflowPy",
   "language": "python",
   "name": "tensorflowpy"
  },
  "language_info": {
   "codemirror_mode": {
    "name": "ipython",
    "version": 3
   },
   "file_extension": ".py",
   "mimetype": "text/x-python",
   "name": "python",
   "nbconvert_exporter": "python",
   "pygments_lexer": "ipython3",
   "version": "3.5.3"
  }
 },
 "nbformat": 4,
 "nbformat_minor": 2
}
